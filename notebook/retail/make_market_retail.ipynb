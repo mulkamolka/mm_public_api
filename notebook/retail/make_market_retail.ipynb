{
 "cells": [
  {
   "cell_type": "markdown",
   "id": "07b4e3d5",
   "metadata": {},
   "source": [
    "# 데이터 import"
   ]
  },
  {
   "cell_type": "code",
   "execution_count": 1,
   "id": "f4591d9c",
   "metadata": {},
   "outputs": [],
   "source": [
    "import pandas as pd"
   ]
  },
  {
   "cell_type": "code",
   "execution_count": 2,
   "id": "b9f61ad6",
   "metadata": {},
   "outputs": [],
   "source": [
    "df = pd.read_csv('master.csv')"
   ]
  },
  {
   "cell_type": "code",
   "execution_count": 3,
   "id": "7eb6ce13",
   "metadata": {},
   "outputs": [
    {
     "data": {
      "text/html": [
       "<div>\n",
       "<style scoped>\n",
       "    .dataframe tbody tr th:only-of-type {\n",
       "        vertical-align: middle;\n",
       "    }\n",
       "\n",
       "    .dataframe tbody tr th {\n",
       "        vertical-align: top;\n",
       "    }\n",
       "\n",
       "    .dataframe thead th {\n",
       "        text-align: right;\n",
       "    }\n",
       "</style>\n",
       "<table border=\"1\" class=\"dataframe\">\n",
       "  <thead>\n",
       "    <tr style=\"text-align: right;\">\n",
       "      <th></th>\n",
       "      <th>P_SEQ</th>\n",
       "      <th>M_SEQ</th>\n",
       "      <th>M_NAME</th>\n",
       "      <th>A_SEQ</th>\n",
       "      <th>A_NAME</th>\n",
       "      <th>A_UNIT</th>\n",
       "      <th>A_PRICE</th>\n",
       "      <th>P_YEAR_MONTH</th>\n",
       "      <th>ADD_COL</th>\n",
       "      <th>P_DATE</th>\n",
       "      <th>M_TYPE_CODE</th>\n",
       "      <th>M_TYPE_NAME</th>\n",
       "      <th>M_GU_CODE</th>\n",
       "      <th>M_GU_NAME</th>\n",
       "    </tr>\n",
       "  </thead>\n",
       "  <tbody>\n",
       "    <tr>\n",
       "      <th>0</th>\n",
       "      <td>1758234.0</td>\n",
       "      <td>62.0</td>\n",
       "      <td>후암시장</td>\n",
       "      <td>305.0</td>\n",
       "      <td>사과(부사, 300g)</td>\n",
       "      <td>1개</td>\n",
       "      <td>1500</td>\n",
       "      <td>2022-06</td>\n",
       "      <td>국내산 부사</td>\n",
       "      <td>2022-06-24</td>\n",
       "      <td>1</td>\n",
       "      <td>전통시장</td>\n",
       "      <td>170000</td>\n",
       "      <td>용산구</td>\n",
       "    </tr>\n",
       "    <tr>\n",
       "      <th>1</th>\n",
       "      <td>1758235.0</td>\n",
       "      <td>62.0</td>\n",
       "      <td>후암시장</td>\n",
       "      <td>306.0</td>\n",
       "      <td>배(신고, 600g)</td>\n",
       "      <td>1개</td>\n",
       "      <td>3000</td>\n",
       "      <td>2022-06</td>\n",
       "      <td>국내산 신고</td>\n",
       "      <td>2022-06-24</td>\n",
       "      <td>1</td>\n",
       "      <td>전통시장</td>\n",
       "      <td>170000</td>\n",
       "      <td>용산구</td>\n",
       "    </tr>\n",
       "    <tr>\n",
       "      <th>2</th>\n",
       "      <td>1758236.0</td>\n",
       "      <td>62.0</td>\n",
       "      <td>후암시장</td>\n",
       "      <td>307.0</td>\n",
       "      <td>배추(2.5~3kg)</td>\n",
       "      <td>1포기</td>\n",
       "      <td>5000</td>\n",
       "      <td>2022-06</td>\n",
       "      <td>국내산</td>\n",
       "      <td>2022-06-24</td>\n",
       "      <td>1</td>\n",
       "      <td>전통시장</td>\n",
       "      <td>170000</td>\n",
       "      <td>용산구</td>\n",
       "    </tr>\n",
       "    <tr>\n",
       "      <th>3</th>\n",
       "      <td>1758237.0</td>\n",
       "      <td>62.0</td>\n",
       "      <td>후암시장</td>\n",
       "      <td>308.0</td>\n",
       "      <td>무(1kg)</td>\n",
       "      <td>1개</td>\n",
       "      <td>1500</td>\n",
       "      <td>2022-06</td>\n",
       "      <td>국내산 흙무</td>\n",
       "      <td>2022-06-24</td>\n",
       "      <td>1</td>\n",
       "      <td>전통시장</td>\n",
       "      <td>170000</td>\n",
       "      <td>용산구</td>\n",
       "    </tr>\n",
       "    <tr>\n",
       "      <th>4</th>\n",
       "      <td>1758238.0</td>\n",
       "      <td>62.0</td>\n",
       "      <td>후암시장</td>\n",
       "      <td>309.0</td>\n",
       "      <td>양파(1.5kg망)</td>\n",
       "      <td>1망 1.5kg</td>\n",
       "      <td>3000</td>\n",
       "      <td>2022-06</td>\n",
       "      <td>국내산</td>\n",
       "      <td>2022-06-24</td>\n",
       "      <td>1</td>\n",
       "      <td>전통시장</td>\n",
       "      <td>170000</td>\n",
       "      <td>용산구</td>\n",
       "    </tr>\n",
       "  </tbody>\n",
       "</table>\n",
       "</div>"
      ],
      "text/plain": [
       "       P_SEQ  M_SEQ M_NAME  A_SEQ        A_NAME    A_UNIT  A_PRICE  \\\n",
       "0  1758234.0   62.0   후암시장  305.0  사과(부사, 300g)        1개     1500   \n",
       "1  1758235.0   62.0   후암시장  306.0   배(신고, 600g)        1개     3000   \n",
       "2  1758236.0   62.0   후암시장  307.0   배추(2.5~3kg)       1포기     5000   \n",
       "3  1758237.0   62.0   후암시장  308.0        무(1kg)        1개     1500   \n",
       "4  1758238.0   62.0   후암시장  309.0    양파(1.5kg망)  1망 1.5kg     3000   \n",
       "\n",
       "  P_YEAR_MONTH ADD_COL      P_DATE  M_TYPE_CODE M_TYPE_NAME  M_GU_CODE  \\\n",
       "0      2022-06  국내산 부사  2022-06-24            1        전통시장     170000   \n",
       "1      2022-06  국내산 신고  2022-06-24            1        전통시장     170000   \n",
       "2      2022-06     국내산  2022-06-24            1        전통시장     170000   \n",
       "3      2022-06  국내산 흙무  2022-06-24            1        전통시장     170000   \n",
       "4      2022-06     국내산  2022-06-24            1        전통시장     170000   \n",
       "\n",
       "  M_GU_NAME  \n",
       "0       용산구  \n",
       "1       용산구  \n",
       "2       용산구  \n",
       "3       용산구  \n",
       "4       용산구  "
      ]
     },
     "execution_count": 3,
     "metadata": {},
     "output_type": "execute_result"
    }
   ],
   "source": [
    "df.head()"
   ]
  },
  {
   "cell_type": "code",
   "execution_count": 4,
   "id": "f6d0fa5e",
   "metadata": {},
   "outputs": [],
   "source": [
    "cols = ['M_SEQ', 'M_NAME', 'M_TYPE_NAME']"
   ]
  },
  {
   "cell_type": "code",
   "execution_count": 5,
   "id": "1ddeaae0",
   "metadata": {},
   "outputs": [],
   "source": [
    "market_df = df[cols]"
   ]
  },
  {
   "cell_type": "code",
   "execution_count": 6,
   "id": "2f59a8b5",
   "metadata": {},
   "outputs": [
    {
     "data": {
      "text/plain": [
       "0          62\n",
       "1          62\n",
       "2          62\n",
       "3          62\n",
       "4          62\n",
       "         ... \n",
       "381995     26\n",
       "381996    210\n",
       "381997    206\n",
       "381998    133\n",
       "381999    103\n",
       "Name: M_SEQ, Length: 382000, dtype: int32"
      ]
     },
     "execution_count": 6,
     "metadata": {},
     "output_type": "execute_result"
    }
   ],
   "source": [
    "market_df['M_SEQ'].astype(int)"
   ]
  },
  {
   "cell_type": "code",
   "execution_count": 7,
   "id": "83be0466",
   "metadata": {},
   "outputs": [
    {
     "name": "stderr",
     "output_type": "stream",
     "text": [
      "C:\\Users\\l2t\\AppData\\Local\\Temp\\ipykernel_15688\\2137193816.py:1: SettingWithCopyWarning: \n",
      "A value is trying to be set on a copy of a slice from a DataFrame.\n",
      "Try using .loc[row_indexer,col_indexer] = value instead\n",
      "\n",
      "See the caveats in the documentation: https://pandas.pydata.org/pandas-docs/stable/user_guide/indexing.html#returning-a-view-versus-a-copy\n",
      "  market_df['M_SEQ'] = market_df['M_SEQ'].astype(int)\n"
     ]
    }
   ],
   "source": [
    "market_df['M_SEQ'] = market_df['M_SEQ'].astype(int)"
   ]
  },
  {
   "cell_type": "code",
   "execution_count": 8,
   "id": "b6ee8fbd",
   "metadata": {},
   "outputs": [
    {
     "data": {
      "text/plain": [
       "M_SEQ          0\n",
       "M_NAME         0\n",
       "M_TYPE_NAME    0\n",
       "dtype: int64"
      ]
     },
     "execution_count": 8,
     "metadata": {},
     "output_type": "execute_result"
    }
   ],
   "source": [
    "# 결측값\n",
    "market_df.isnull().sum()"
   ]
  },
  {
   "cell_type": "code",
   "execution_count": 9,
   "id": "f3305fac",
   "metadata": {},
   "outputs": [
    {
     "name": "stderr",
     "output_type": "stream",
     "text": [
      "C:\\Users\\l2t\\AppData\\Local\\Temp\\ipykernel_15688\\4030204285.py:1: SettingWithCopyWarning: \n",
      "A value is trying to be set on a copy of a slice from a DataFrame.\n",
      "Try using .loc[row_indexer,col_indexer] = value instead\n",
      "\n",
      "See the caveats in the documentation: https://pandas.pydata.org/pandas-docs/stable/user_guide/indexing.html#returning-a-view-versus-a-copy\n",
      "  market_df['m_code'] = market_df['M_SEQ']\n"
     ]
    }
   ],
   "source": [
    "market_df['m_code'] = market_df['M_SEQ']"
   ]
  },
  {
   "cell_type": "code",
   "execution_count": 10,
   "id": "34110839",
   "metadata": {},
   "outputs": [
    {
     "name": "stderr",
     "output_type": "stream",
     "text": [
      "C:\\Users\\l2t\\AppData\\Local\\Temp\\ipykernel_15688\\2960358004.py:1: SettingWithCopyWarning: \n",
      "A value is trying to be set on a copy of a slice from a DataFrame\n",
      "\n",
      "See the caveats in the documentation: https://pandas.pydata.org/pandas-docs/stable/user_guide/indexing.html#returning-a-view-versus-a-copy\n",
      "  market_df.drop(['m_code'], axis=1, inplace=True)\n"
     ]
    }
   ],
   "source": [
    "market_df.drop(['m_code'], axis=1, inplace=True)"
   ]
  },
  {
   "cell_type": "code",
   "execution_count": 11,
   "id": "502fe93f",
   "metadata": {},
   "outputs": [
    {
     "name": "stderr",
     "output_type": "stream",
     "text": [
      "C:\\Users\\l2t\\AppData\\Local\\Temp\\ipykernel_15688\\2080889185.py:1: SettingWithCopyWarning: \n",
      "A value is trying to be set on a copy of a slice from a DataFrame\n",
      "\n",
      "See the caveats in the documentation: https://pandas.pydata.org/pandas-docs/stable/user_guide/indexing.html#returning-a-view-versus-a-copy\n",
      "  market_df.rename(columns= {\n"
     ]
    }
   ],
   "source": [
    "market_df.rename(columns= {\n",
    "    'M_SEQ' : 'm_code',\n",
    "    'M_NAME' : 'm_name',\n",
    "    'M_TYPE_NAME' : 'm_type'\n",
    "}, inplace=True)"
   ]
  },
  {
   "cell_type": "code",
   "execution_count": 12,
   "id": "5f53c5b7",
   "metadata": {},
   "outputs": [
    {
     "data": {
      "text/html": [
       "<div>\n",
       "<style scoped>\n",
       "    .dataframe tbody tr th:only-of-type {\n",
       "        vertical-align: middle;\n",
       "    }\n",
       "\n",
       "    .dataframe tbody tr th {\n",
       "        vertical-align: top;\n",
       "    }\n",
       "\n",
       "    .dataframe thead th {\n",
       "        text-align: right;\n",
       "    }\n",
       "</style>\n",
       "<table border=\"1\" class=\"dataframe\">\n",
       "  <thead>\n",
       "    <tr style=\"text-align: right;\">\n",
       "      <th></th>\n",
       "      <th>m_code</th>\n",
       "      <th>m_name</th>\n",
       "      <th>m_type</th>\n",
       "    </tr>\n",
       "  </thead>\n",
       "  <tbody>\n",
       "    <tr>\n",
       "      <th>0</th>\n",
       "      <td>62</td>\n",
       "      <td>후암시장</td>\n",
       "      <td>전통시장</td>\n",
       "    </tr>\n",
       "    <tr>\n",
       "      <th>1</th>\n",
       "      <td>62</td>\n",
       "      <td>후암시장</td>\n",
       "      <td>전통시장</td>\n",
       "    </tr>\n",
       "    <tr>\n",
       "      <th>2</th>\n",
       "      <td>62</td>\n",
       "      <td>후암시장</td>\n",
       "      <td>전통시장</td>\n",
       "    </tr>\n",
       "    <tr>\n",
       "      <th>3</th>\n",
       "      <td>62</td>\n",
       "      <td>후암시장</td>\n",
       "      <td>전통시장</td>\n",
       "    </tr>\n",
       "    <tr>\n",
       "      <th>4</th>\n",
       "      <td>62</td>\n",
       "      <td>후암시장</td>\n",
       "      <td>전통시장</td>\n",
       "    </tr>\n",
       "    <tr>\n",
       "      <th>...</th>\n",
       "      <td>...</td>\n",
       "      <td>...</td>\n",
       "      <td>...</td>\n",
       "    </tr>\n",
       "    <tr>\n",
       "      <th>381995</th>\n",
       "      <td>26</td>\n",
       "      <td>신창시장</td>\n",
       "      <td>전통시장</td>\n",
       "    </tr>\n",
       "    <tr>\n",
       "      <th>381996</th>\n",
       "      <td>210</td>\n",
       "      <td>상계중앙시장</td>\n",
       "      <td>전통시장</td>\n",
       "    </tr>\n",
       "    <tr>\n",
       "      <th>381997</th>\n",
       "      <td>206</td>\n",
       "      <td>하나로클럽 미아점</td>\n",
       "      <td>대형마트</td>\n",
       "    </tr>\n",
       "    <tr>\n",
       "      <th>381998</th>\n",
       "      <td>133</td>\n",
       "      <td>원당종합시장</td>\n",
       "      <td>전통시장</td>\n",
       "    </tr>\n",
       "    <tr>\n",
       "      <th>381999</th>\n",
       "      <td>103</td>\n",
       "      <td>신영시장</td>\n",
       "      <td>전통시장</td>\n",
       "    </tr>\n",
       "  </tbody>\n",
       "</table>\n",
       "<p>382000 rows × 3 columns</p>\n",
       "</div>"
      ],
      "text/plain": [
       "        m_code     m_name m_type\n",
       "0           62       후암시장   전통시장\n",
       "1           62       후암시장   전통시장\n",
       "2           62       후암시장   전통시장\n",
       "3           62       후암시장   전통시장\n",
       "4           62       후암시장   전통시장\n",
       "...        ...        ...    ...\n",
       "381995      26       신창시장   전통시장\n",
       "381996     210     상계중앙시장   전통시장\n",
       "381997     206  하나로클럽 미아점   대형마트\n",
       "381998     133     원당종합시장   전통시장\n",
       "381999     103       신영시장   전통시장\n",
       "\n",
       "[382000 rows x 3 columns]"
      ]
     },
     "execution_count": 12,
     "metadata": {},
     "output_type": "execute_result"
    }
   ],
   "source": [
    "market_df"
   ]
  },
  {
   "cell_type": "code",
   "execution_count": 13,
   "id": "2d7f02ea",
   "metadata": {},
   "outputs": [
    {
     "name": "stdout",
     "output_type": "stream",
     "text": [
      "<class 'pandas.core.frame.DataFrame'>\n",
      "RangeIndex: 382000 entries, 0 to 381999\n",
      "Data columns (total 3 columns):\n",
      " #   Column  Non-Null Count   Dtype \n",
      "---  ------  --------------   ----- \n",
      " 0   m_code  382000 non-null  int32 \n",
      " 1   m_name  382000 non-null  object\n",
      " 2   m_type  382000 non-null  object\n",
      "dtypes: int32(1), object(2)\n",
      "memory usage: 7.3+ MB\n"
     ]
    }
   ],
   "source": [
    "market_df.info()"
   ]
  },
  {
   "cell_type": "code",
   "execution_count": 14,
   "id": "3d016204",
   "metadata": {},
   "outputs": [
    {
     "name": "stdout",
     "output_type": "stream",
     "text": [
      "[1, 2, 6, 8, 10, 11, 13, 14, 15, 16, 19, 20, 21, 22, 25, 26, 27, 28, 31, 32, 33, 38, 40, 42, 44, 45, 49, 51, 53, 55, 56, 60, 62, 63, 66, 68, 72, 73, 74, 75, 78, 80, 82, 84, 85, 86, 88, 90, 91, 92, 94, 96, 98, 100, 102, 103, 108, 109, 110, 112, 114, 115, 116, 120, 121, 122, 123, 127, 129, 130, 133, 134, 135, 136, 140, 145, 146, 147, 148, 151, 153, 154, 199, 200, 202, 205, 206, 207, 210, 212, 213, 214, 215, 216, 217, 218, 219, 220, 221, 222, 223, 224, 225, 226, 227, 228, 229]\n"
     ]
    }
   ],
   "source": [
    "# 마켓코드\n",
    "print(sorted(list(market_df['m_code'].unique())))"
   ]
  },
  {
   "cell_type": "code",
   "execution_count": 15,
   "id": "c5aa01b9",
   "metadata": {},
   "outputs": [],
   "source": [
    "trad_lst = list(market_df[market_df['m_type'] == '전통시장']['m_name'].unique())"
   ]
  },
  {
   "cell_type": "code",
   "execution_count": 16,
   "id": "24b86548",
   "metadata": {},
   "outputs": [],
   "source": [
    "mall_lst = list(market_df[market_df['m_type'] == '대형마트']['m_name'].unique())"
   ]
  },
  {
   "cell_type": "code",
   "execution_count": 17,
   "id": "5b7bcdbb",
   "metadata": {},
   "outputs": [],
   "source": [
    "trad_lst = [[name,0] for name in trad_lst]\n",
    "mall_lst= [[name, 1] for name in mall_lst]"
   ]
  },
  {
   "cell_type": "code",
   "execution_count": 18,
   "id": "3c5de0aa",
   "metadata": {},
   "outputs": [],
   "source": [
    "merged_data = trad_lst + mall_lst"
   ]
  },
  {
   "cell_type": "code",
   "execution_count": 23,
   "id": "dfa3737e",
   "metadata": {},
   "outputs": [],
   "source": [
    "cols = ['m_name', 'm_type']\n",
    "\n",
    "market_df = pd.DataFrame(merged_data, columns=cols)"
   ]
  },
  {
   "cell_type": "code",
   "execution_count": 24,
   "id": "7bcb0285",
   "metadata": {},
   "outputs": [
    {
     "data": {
      "text/html": [
       "<div>\n",
       "<style scoped>\n",
       "    .dataframe tbody tr th:only-of-type {\n",
       "        vertical-align: middle;\n",
       "    }\n",
       "\n",
       "    .dataframe tbody tr th {\n",
       "        vertical-align: top;\n",
       "    }\n",
       "\n",
       "    .dataframe thead th {\n",
       "        text-align: right;\n",
       "    }\n",
       "</style>\n",
       "<table border=\"1\" class=\"dataframe\">\n",
       "  <thead>\n",
       "    <tr style=\"text-align: right;\">\n",
       "      <th></th>\n",
       "      <th>m_name</th>\n",
       "      <th>m_type</th>\n",
       "    </tr>\n",
       "  </thead>\n",
       "  <tbody>\n",
       "    <tr>\n",
       "      <th>0</th>\n",
       "      <td>후암시장</td>\n",
       "      <td>0</td>\n",
       "    </tr>\n",
       "    <tr>\n",
       "      <th>1</th>\n",
       "      <td>영등포전통시장</td>\n",
       "      <td>0</td>\n",
       "    </tr>\n",
       "    <tr>\n",
       "      <th>2</th>\n",
       "      <td>대림중앙시장</td>\n",
       "      <td>0</td>\n",
       "    </tr>\n",
       "    <tr>\n",
       "      <th>3</th>\n",
       "      <td>용문시장</td>\n",
       "      <td>0</td>\n",
       "    </tr>\n",
       "    <tr>\n",
       "      <th>4</th>\n",
       "      <td>망원시장</td>\n",
       "      <td>0</td>\n",
       "    </tr>\n",
       "    <tr>\n",
       "      <th>...</th>\n",
       "      <td>...</td>\n",
       "      <td>...</td>\n",
       "    </tr>\n",
       "    <tr>\n",
       "      <th>103</th>\n",
       "      <td>이마트 에브리데이 창동점</td>\n",
       "      <td>1</td>\n",
       "    </tr>\n",
       "    <tr>\n",
       "      <th>104</th>\n",
       "      <td>롯데마트 구로점</td>\n",
       "      <td>1</td>\n",
       "    </tr>\n",
       "    <tr>\n",
       "      <th>105</th>\n",
       "      <td>2001아울렛 불광점</td>\n",
       "      <td>1</td>\n",
       "    </tr>\n",
       "    <tr>\n",
       "      <th>106</th>\n",
       "      <td>애경백화점</td>\n",
       "      <td>1</td>\n",
       "    </tr>\n",
       "    <tr>\n",
       "      <th>107</th>\n",
       "      <td>그랜드마트 신촌점</td>\n",
       "      <td>1</td>\n",
       "    </tr>\n",
       "  </tbody>\n",
       "</table>\n",
       "<p>108 rows × 2 columns</p>\n",
       "</div>"
      ],
      "text/plain": [
       "            m_name  m_type\n",
       "0             후암시장       0\n",
       "1          영등포전통시장       0\n",
       "2           대림중앙시장       0\n",
       "3             용문시장       0\n",
       "4             망원시장       0\n",
       "..             ...     ...\n",
       "103  이마트 에브리데이 창동점       1\n",
       "104       롯데마트 구로점       1\n",
       "105    2001아울렛 불광점       1\n",
       "106          애경백화점       1\n",
       "107      그랜드마트 신촌점       1\n",
       "\n",
       "[108 rows x 2 columns]"
      ]
     },
     "execution_count": 24,
     "metadata": {},
     "output_type": "execute_result"
    }
   ],
   "source": [
    "market_df"
   ]
  },
  {
   "cell_type": "code",
   "execution_count": 25,
   "id": "f6ded1c7",
   "metadata": {},
   "outputs": [],
   "source": [
    "mart_lst = ['광장시장','통인시장','롯데백화점 명동본점','신세계백화점 본점',\n",
    "'서울중앙시장','남대문시장','이마트 청계천점','롯데마트 서울역점',\n",
    "'후암시장','용문시장','농협하나로마트 용산점','이마트 용산점',\n",
    "'금남시장','뚝도시장','이마트 성수점','이마트 왕십리점',\n",
    "'노룬산골목시장','자양골목시장','롯데마트 강변점','이마트 자양점',\n",
    "'경동시장','청량리종합시장','롯데백화점 청량리점','홈플러스 동대문점',\n",
    "'동원시장','우림시장','홈플러스 면목점','이마트 상봉점',\n",
    "'장위전통시장','돈암제일시장','현대백화점 미아점','이마트 미아점',\n",
    "'숭인시장','수유재래시장','농협하나로마트 미아점','롯데백화점 미아점',\n",
    "'신창시장','방학동 도깨비시장','이마트 창동점','홈플러스 방학점',\n",
    "'상계중앙시장','공릉동 도깨비시장','홈플러스 중계점','롯데백화점 노원점',\n",
    "'대조시장','대림시장','이마트 은평점','NC백화점 불광점','독립문영천시장',\n",
    "'인왕시장','롯데슈퍼 유진점','현대백화점 신촌점',\n",
    "'망원시장','마포농수산물시장','농협하나로마트 신촌점','홈플러스 월드컵점',\n",
    "'신영시장','목3동시장','홈플러스 목동점','이마트 목동점',\n",
    "'화곡본동시장','송화시장','이마트 가양점','홈플러스 익스프레스 등촌점',\n",
    "'남구로시장','고척근린시장','이마트 신도림점','NC백화점 신구로점',\n",
    "'별빛남문시장','현대시장','홈플러스 독산점','홈플러스 시흥점',\n",
    "'영등포 전통시장','대림중앙시장','이마트 여의도점','홈플러스 영등포점',\n",
    "'남성시장','관악신사시장','이마트 이수점','롯데백화점 영등포점',\n",
    "'신원시장','원당종합시장','롯데백화점 관악점','세이브마트 신림본점',\n",
    "'방배종합시장','신세계백화점 강남점','뉴코아아울렛 강남점','농협하나로마트 양재점',\n",
    "'청담삼익시장','도곡시장','롯데백화점 강남점','이마트 역삼점',\n",
    "'방이시장','마천중앙시장','홈플러스 잠실점','롯데백화점 잠실점',\n",
    "'둔촌역전통시장','암사종합시장','홈플러스 강동점','이마트 명일점']"
   ]
  },
  {
   "cell_type": "code",
   "execution_count": 26,
   "id": "f07b0310",
   "metadata": {},
   "outputs": [],
   "source": [
    "market_df = market_df[market_df['m_name'].isin(mart_lst)]"
   ]
  },
  {
   "cell_type": "code",
   "execution_count": 27,
   "id": "e7c3b46e",
   "metadata": {},
   "outputs": [],
   "source": [
    "# 폐점된 상점 제외\n",
    "market_df = market_df.reset_index(drop=True)"
   ]
  },
  {
   "cell_type": "code",
   "execution_count": 28,
   "id": "1409067f",
   "metadata": {},
   "outputs": [
    {
     "data": {
      "text/html": [
       "<div>\n",
       "<style scoped>\n",
       "    .dataframe tbody tr th:only-of-type {\n",
       "        vertical-align: middle;\n",
       "    }\n",
       "\n",
       "    .dataframe tbody tr th {\n",
       "        vertical-align: top;\n",
       "    }\n",
       "\n",
       "    .dataframe thead th {\n",
       "        text-align: right;\n",
       "    }\n",
       "</style>\n",
       "<table border=\"1\" class=\"dataframe\">\n",
       "  <thead>\n",
       "    <tr style=\"text-align: right;\">\n",
       "      <th></th>\n",
       "      <th>m_name</th>\n",
       "      <th>m_type</th>\n",
       "    </tr>\n",
       "  </thead>\n",
       "  <tbody>\n",
       "    <tr>\n",
       "      <th>0</th>\n",
       "      <td>후암시장</td>\n",
       "      <td>0</td>\n",
       "    </tr>\n",
       "    <tr>\n",
       "      <th>1</th>\n",
       "      <td>대림중앙시장</td>\n",
       "      <td>0</td>\n",
       "    </tr>\n",
       "    <tr>\n",
       "      <th>2</th>\n",
       "      <td>용문시장</td>\n",
       "      <td>0</td>\n",
       "    </tr>\n",
       "    <tr>\n",
       "      <th>3</th>\n",
       "      <td>망원시장</td>\n",
       "      <td>0</td>\n",
       "    </tr>\n",
       "    <tr>\n",
       "      <th>4</th>\n",
       "      <td>마포농수산물시장</td>\n",
       "      <td>0</td>\n",
       "    </tr>\n",
       "    <tr>\n",
       "      <th>...</th>\n",
       "      <td>...</td>\n",
       "      <td>...</td>\n",
       "    </tr>\n",
       "    <tr>\n",
       "      <th>79</th>\n",
       "      <td>현대백화점 신촌점</td>\n",
       "      <td>1</td>\n",
       "    </tr>\n",
       "    <tr>\n",
       "      <th>80</th>\n",
       "      <td>이마트 창동점</td>\n",
       "      <td>1</td>\n",
       "    </tr>\n",
       "    <tr>\n",
       "      <th>81</th>\n",
       "      <td>홈플러스 방학점</td>\n",
       "      <td>1</td>\n",
       "    </tr>\n",
       "    <tr>\n",
       "      <th>82</th>\n",
       "      <td>이마트 가양점</td>\n",
       "      <td>1</td>\n",
       "    </tr>\n",
       "    <tr>\n",
       "      <th>83</th>\n",
       "      <td>현대백화점 미아점</td>\n",
       "      <td>1</td>\n",
       "    </tr>\n",
       "  </tbody>\n",
       "</table>\n",
       "<p>84 rows × 2 columns</p>\n",
       "</div>"
      ],
      "text/plain": [
       "       m_name  m_type\n",
       "0        후암시장       0\n",
       "1      대림중앙시장       0\n",
       "2        용문시장       0\n",
       "3        망원시장       0\n",
       "4    마포농수산물시장       0\n",
       "..        ...     ...\n",
       "79  현대백화점 신촌점       1\n",
       "80    이마트 창동점       1\n",
       "81   홈플러스 방학점       1\n",
       "82    이마트 가양점       1\n",
       "83  현대백화점 미아점       1\n",
       "\n",
       "[84 rows x 2 columns]"
      ]
     },
     "execution_count": 28,
     "metadata": {},
     "output_type": "execute_result"
    }
   ],
   "source": [
    "market_df"
   ]
  },
  {
   "cell_type": "markdown",
   "id": "6b2f378d",
   "metadata": {},
   "source": [
    "# market_retail 데이터 조회 코드"
   ]
  },
  {
   "cell_type": "code",
   "execution_count": null,
   "id": "5e978c99",
   "metadata": {},
   "outputs": [],
   "source": [
    "# # market_retail 데이터\n",
    "\n",
    "# import pymysql\n",
    "\n",
    "# db = pymysql.connect(host=\"db-1.cnt4cbkbsgdt.us-east-1.rds.amazonaws.com\",\n",
    "#                      port=3306,\n",
    "#                      user='admin',\n",
    "#                      passwd='12345678',\n",
    "#                      db='public_api',\n",
    "#                      charset='utf8')\n",
    "\n",
    "# sql = \"\"\"\n",
    "#     select * from market_retail;\n",
    "# \"\"\"\n",
    "\n",
    "# cursor.execute(sql)\n",
    "# market_retail = []\n",
    "\n",
    "# for row in cursor.fetchall():\n",
    "#     print(row)"
   ]
  },
  {
   "cell_type": "markdown",
   "id": "4cf9ef82",
   "metadata": {},
   "source": [
    "# market_retail 데이터 삽입 코드"
   ]
  },
  {
   "cell_type": "code",
   "execution_count": null,
   "id": "3b084b33",
   "metadata": {},
   "outputs": [],
   "source": [
    "market_df"
   ]
  },
  {
   "cell_type": "code",
   "execution_count": null,
   "id": "74131384",
   "metadata": {},
   "outputs": [],
   "source": [
    "# import pymysql\n",
    "\n",
    "# db = pymysql.connect(host=\"db-1.cnt4cbkbsgdt.us-east-1.rds.amazonaws.com\",\n",
    "#                      port=3306,\n",
    "#                      user='admin',\n",
    "#                      passwd='12345678',\n",
    "#                      db='public_api',\n",
    "#                      charset='utf8')"
   ]
  },
  {
   "cell_type": "code",
   "execution_count": null,
   "id": "29e108ee",
   "metadata": {},
   "outputs": [],
   "source": [
    "# # 전통시장 데이터 삽입\n",
    "# for idx, row in market_df[market_df['m_type'] == 0].iterrows():\n",
    "#     sql = f\"INSERT INTO market_retail (m_code, loc, m_name, m_type) VALUES('T{idx + 1}', NULL,  '{row['m_name']}', {row['m_type']})\"\n",
    "#     cursor.execute(sql)\n",
    "    \n",
    "# db.commit()"
   ]
  },
  {
   "cell_type": "code",
   "execution_count": null,
   "id": "9c726323",
   "metadata": {},
   "outputs": [],
   "source": [
    "# # 대형마트 데이터 삽입\n",
    "# for idx, row in market_df[market_df['m_type'] == 1].iterrows():\n",
    "#     sql = f\"INSERT INTO market_retail (m_code, loc, m_name, m_type) VALUES('M{idx - 41}', NULL, '{row['m_name']}', {row['m_type']})\"\n",
    "#     cursor.execute(sql)\n",
    "# db.commit()"
   ]
  },
  {
   "cell_type": "code",
   "execution_count": null,
   "id": "ce1ecd2d",
   "metadata": {},
   "outputs": [],
   "source": [
    "# # market_retail 데이터\n",
    "\n",
    "# sql = \"\"\"\n",
    "#     select * from market_retail;\n",
    "# \"\"\"\n",
    "\n",
    "# cursor.execute(sql)\n",
    "# market_retail = []\n",
    "\n",
    "# for row in cursor.fetchall():\n",
    "#     market_retail.append({\n",
    "#         \"m_code\" : row[0],\n",
    "#         \"loc\" : \"NULL\",\n",
    "#         \"m_name\" : row[2],\n",
    "#         \"m_type\" : row[3]\n",
    "#     })"
   ]
  },
  {
   "cell_type": "markdown",
   "id": "c43c7ed6",
   "metadata": {},
   "source": [
    "# csv 파일 저장"
   ]
  },
  {
   "cell_type": "code",
   "execution_count": null,
   "id": "4d913c65",
   "metadata": {},
   "outputs": [],
   "source": [
    "# market_df.to_csv('./result/market_retail.csv', index=False)"
   ]
  }
 ],
 "metadata": {
  "kernelspec": {
   "display_name": "Python 3 (ipykernel)",
   "language": "python",
   "name": "python3"
  },
  "language_info": {
   "codemirror_mode": {
    "name": "ipython",
    "version": 3
   },
   "file_extension": ".py",
   "mimetype": "text/x-python",
   "name": "python",
   "nbconvert_exporter": "python",
   "pygments_lexer": "ipython3",
   "version": "3.9.1"
  }
 },
 "nbformat": 4,
 "nbformat_minor": 5
}
