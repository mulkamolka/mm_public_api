{
 "cells": [
  {
   "cell_type": "markdown",
   "id": "49525c5c",
   "metadata": {},
   "source": [
    "# 공공 API 데이터 분석\n",
    "---\n",
    "\n",
    "### 특징\n",
    "\n",
    "- 서울시 생필품 농수축산물 가격 정보\n",
    "\n",
    "\n",
    "- 서울시 물가모니터가 주1회 자치구별 전통시장과 대형마트에 나가 농수축산물 16개 품목을 조사하고 그 가격을 공개하는 정보입니다.\n",
    "\n",
    "\n",
    "- 관련 태그\n",
    "\n",
    "    물가 ,  농업 ,  수산업 ,  축산업 ,  전통시장 ,  대형마트 ,  갈치 ,  고등어 ,  달걀 ,  닭고기 ,  동태 ,  돼지고기 ,  명태 ,  무 ,  배 ,  배추 ,  사과 ,  삼겹살 ,  상추 ,  쇠고기 ,  애호박 ,  양파 ,  오이 ,  오징어 ,  조기 ,  호박\n",
    "    \n",
    "- 업데이트 주기: 1주일, 토요일 오전\n",
    "\n",
    "\n",
    "- 한번에 최대 1,000건 호출 가능\n",
    "\n",
    "\n",
    "- 전체 데이터 수는 오픈 API의 `list_total_count` 항목을 확인\n",
    "    - (2022.05.12 기준) - 370,899건"
   ]
  },
  {
   "cell_type": "markdown",
   "id": "17a6a572",
   "metadata": {},
   "source": [
    "## 가격 조사 전통시장 및 대형마트 목록 (2022.06.09 기준)\n",
    "\n",
    "---\n",
    "종로구: 광장시장, 통인시장, 롯데백화점 명동본점, 신세계백화점 본점\n",
    "\n",
    "\n",
    "중구: 서울중앙시장, 남대문시장, 이마트 청계천점, 롯데마트 서울역점\n",
    "\n",
    "\n",
    "용산구: 후암시장, 용문시장, 농협하나로마트 용산점, 이마트 용산점\n",
    "\n",
    "\n",
    "성동구: 금남시장, 뚝도시장, 이마트 성수점, 이마트 왕십리점\n",
    "\n",
    "\n",
    "광진구: 노룬산골목시장, 자양골목시장, 롯데마트 강변점, 이마트 자양점\n",
    "\n",
    "\n",
    "동대문구: 경동시장, 청량리종합시장, 롯데백화점 청량리점, 홈플러스 동대문점\n",
    "\n",
    "\n",
    "중랑구: 동원시장, 우림시장, 홈플러스 면목점, 이마트 상봉점\n",
    "\n",
    "\n",
    "성북구: 장위전통시장, 돈암제일시장, 현대백화점 미아점, 이마트 미아점\n",
    "\n",
    "\n",
    "강북구: 숭인시장, 수유재래시장, 농협하나로마트 미아점, 롯데백화점 미아점\n",
    "\n",
    "\n",
    "도봉구: 신창시장, 방학동 도깨비시장, 이마트 창동점, 홈플러스 방학점\n",
    "\n",
    "\n",
    "노원구: 상계중앙시장, 공릉동 도깨비시장, 홈플러스 중계점, 롯데백화점 노원점\n",
    "\n",
    "\n",
    "은평구: 대조시장, 대림시장, 이마트 은평점, NC백화점 불광점\n",
    "\n",
    "\n",
    "서대문구: 독립문영천시장, 인왕시장, 롯데슈퍼 유진점, 현대백화점 신촌점\n",
    "\n",
    "\n",
    "마포구: 망원시장, 마포농수산물시장, 농협하나로마트 신촌점, 홈플러스 월드컵점\n",
    "\n",
    "\n",
    "양천구: 신영시장, 목3동시장, 홈플러스 목동점, 이마트 목동점\n",
    "\n",
    "\n",
    "강서구: 화곡본동시장, 송화시장, 이마트 가양점, 홈플러스 익스프레스 등촌점\n",
    "\n",
    "\n",
    "구로구: 남구로시장, 고척근린시장, 이마트 신도림점, NC백화점 신구로점\n",
    "\n",
    "\n",
    "금천구: 별빛남문시장, 현대시장, 홈플러스 독산점, 홈플러스 시흥점\n",
    "\n",
    "\n",
    "영등포구: 영등포 전통시장, 대림중앙시장, 이마트 여의도점, 홈플러스 영등포점\n",
    "\n",
    "\n",
    "동작구: 남성시장, 관악신사시장, 이마트 이수점, 롯데백화점 영등포점\n",
    "\n",
    "\n",
    "관악구: 신원시장, 원당종합시장, 롯데백화점 관악점, 세이브마트 신림본점\n",
    "\n",
    "\n",
    "서초구: 방배종합시장, 신세계백화점 강남점, 뉴코아아울렛 강남점, 농협하나로마트 양재점\n",
    "\n",
    "\n",
    "강남구: 청담삼익시장, 도곡시장, 롯데백화점 강남점, 이마트 역삼점\n",
    "\n",
    "\n",
    "송파구: 방이시장, 마천중앙시장, 홈플러스 잠실점, 롯데백화점 잠실점\n",
    "\n",
    "\n",
    "강동구: 둔촌역전통시장, 암사종합시장, 홈플러스 강동점, 이마트 명일점"
   ]
  },
  {
   "cell_type": "code",
   "execution_count": 2,
   "id": "5e02aad7",
   "metadata": {},
   "outputs": [
    {
     "data": {
      "text/plain": [
       "['.gitignore',\n",
       " 'app.py',\n",
       " 'config.py',\n",
       " 'crawler.py',\n",
       " 'data',\n",
       " 'models.py',\n",
       " 'notebook',\n",
       " 'papi',\n",
       " 'requirements.txt',\n",
       " 'run_server.sh',\n",
       " 'util',\n",
       " '__pycache__']"
      ]
     },
     "execution_count": 2,
     "metadata": {},
     "output_type": "execute_result"
    }
   ],
   "source": [
    "import os\n",
    "\n",
    "os.listdir('../')"
   ]
  },
  {
   "cell_type": "markdown",
   "id": "3b41ac60",
   "metadata": {},
   "source": [
    "## 샘플 데이터"
   ]
  },
  {
   "cell_type": "code",
   "execution_count": 3,
   "id": "f848602f",
   "metadata": {},
   "outputs": [],
   "source": [
    "json_data_path = \"../data/sample.json\""
   ]
  },
  {
   "cell_type": "code",
   "execution_count": 25,
   "id": "f4820ac6",
   "metadata": {},
   "outputs": [],
   "source": [
    "import json\n",
    "\n",
    "with open(json_data_path, 'rb') as f:\n",
    "    data = json.load(f)"
   ]
  },
  {
   "cell_type": "code",
   "execution_count": null,
   "id": "d910f39e",
   "metadata": {},
   "outputs": [],
   "source": [
    "import pandas as pd\n",
    "\n",
    "json_data = data['ListNecessariesPricesService']['row']\n",
    "\n",
    "df = pd.DataFrame(json_data)"
   ]
  },
  {
   "cell_type": "code",
   "execution_count": 85,
   "id": "24f37400",
   "metadata": {},
   "outputs": [
    {
     "data": {
      "text/html": [
       "<div>\n",
       "<style scoped>\n",
       "    .dataframe tbody tr th:only-of-type {\n",
       "        vertical-align: middle;\n",
       "    }\n",
       "\n",
       "    .dataframe tbody tr th {\n",
       "        vertical-align: top;\n",
       "    }\n",
       "\n",
       "    .dataframe thead th {\n",
       "        text-align: right;\n",
       "    }\n",
       "</style>\n",
       "<table border=\"1\" class=\"dataframe\">\n",
       "  <thead>\n",
       "    <tr style=\"text-align: right;\">\n",
       "      <th></th>\n",
       "      <th>ADD_COL</th>\n",
       "      <th>A_NAME</th>\n",
       "      <th>A_PRICE</th>\n",
       "      <th>A_SEQ</th>\n",
       "      <th>A_UNIT</th>\n",
       "      <th>M_GU_CODE</th>\n",
       "      <th>M_GU_NAME</th>\n",
       "      <th>M_NAME</th>\n",
       "      <th>M_SEQ</th>\n",
       "      <th>M_TYPE_CODE</th>\n",
       "      <th>M_TYPE_NAME</th>\n",
       "      <th>P_DATE</th>\n",
       "      <th>P_SEQ</th>\n",
       "      <th>P_YEAR_MONTH</th>\n",
       "    </tr>\n",
       "  </thead>\n",
       "  <tbody>\n",
       "    <tr>\n",
       "      <th>0</th>\n",
       "      <td>국내산</td>\n",
       "      <td>사과(부사, 300g)</td>\n",
       "      <td>1000</td>\n",
       "      <td>305.0</td>\n",
       "      <td>1개(300g)</td>\n",
       "      <td>560000</td>\n",
       "      <td>영등포구</td>\n",
       "      <td>대림중앙시장</td>\n",
       "      <td>19.0</td>\n",
       "      <td>001</td>\n",
       "      <td>전통시장</td>\n",
       "      <td>2022-06-16</td>\n",
       "      <td>1759389.0</td>\n",
       "      <td>2022-06</td>\n",
       "    </tr>\n",
       "    <tr>\n",
       "      <th>1</th>\n",
       "      <td>국내산</td>\n",
       "      <td>배(신고, 600g)</td>\n",
       "      <td>2000</td>\n",
       "      <td>306.0</td>\n",
       "      <td>1개(600g)</td>\n",
       "      <td>560000</td>\n",
       "      <td>영등포구</td>\n",
       "      <td>대림중앙시장</td>\n",
       "      <td>19.0</td>\n",
       "      <td>001</td>\n",
       "      <td>전통시장</td>\n",
       "      <td>2022-06-16</td>\n",
       "      <td>1759390.0</td>\n",
       "      <td>2022-06</td>\n",
       "    </tr>\n",
       "    <tr>\n",
       "      <th>2</th>\n",
       "      <td>국내산</td>\n",
       "      <td>배추</td>\n",
       "      <td>3500</td>\n",
       "      <td>26.0</td>\n",
       "      <td>1포기(2.5kg)</td>\n",
       "      <td>560000</td>\n",
       "      <td>영등포구</td>\n",
       "      <td>대림중앙시장</td>\n",
       "      <td>19.0</td>\n",
       "      <td>001</td>\n",
       "      <td>전통시장</td>\n",
       "      <td>2022-06-16</td>\n",
       "      <td>1759391.0</td>\n",
       "      <td>2022-06</td>\n",
       "    </tr>\n",
       "    <tr>\n",
       "      <th>3</th>\n",
       "      <td>국내산</td>\n",
       "      <td>무(1kg)</td>\n",
       "      <td>1500</td>\n",
       "      <td>308.0</td>\n",
       "      <td>1개(1kg)</td>\n",
       "      <td>560000</td>\n",
       "      <td>영등포구</td>\n",
       "      <td>대림중앙시장</td>\n",
       "      <td>19.0</td>\n",
       "      <td>001</td>\n",
       "      <td>전통시장</td>\n",
       "      <td>2022-06-16</td>\n",
       "      <td>1759392.0</td>\n",
       "      <td>2022-06</td>\n",
       "    </tr>\n",
       "    <tr>\n",
       "      <th>4</th>\n",
       "      <td>국내산 /1망(1.8kg) 3,500원</td>\n",
       "      <td>양파</td>\n",
       "      <td>2917</td>\n",
       "      <td>24.0</td>\n",
       "      <td>1.5kg</td>\n",
       "      <td>560000</td>\n",
       "      <td>영등포구</td>\n",
       "      <td>대림중앙시장</td>\n",
       "      <td>19.0</td>\n",
       "      <td>001</td>\n",
       "      <td>전통시장</td>\n",
       "      <td>2022-06-16</td>\n",
       "      <td>1759393.0</td>\n",
       "      <td>2022-06</td>\n",
       "    </tr>\n",
       "    <tr>\n",
       "      <th>5</th>\n",
       "      <td>국내산</td>\n",
       "      <td>상추(100g)</td>\n",
       "      <td>750</td>\n",
       "      <td>310.0</td>\n",
       "      <td>100g</td>\n",
       "      <td>560000</td>\n",
       "      <td>영등포구</td>\n",
       "      <td>대림중앙시장</td>\n",
       "      <td>19.0</td>\n",
       "      <td>001</td>\n",
       "      <td>전통시장</td>\n",
       "      <td>2022-06-16</td>\n",
       "      <td>1759394.0</td>\n",
       "      <td>2022-06</td>\n",
       "    </tr>\n",
       "    <tr>\n",
       "      <th>6</th>\n",
       "      <td>국내산</td>\n",
       "      <td>오이</td>\n",
       "      <td>666</td>\n",
       "      <td>22.0</td>\n",
       "      <td>1개(100g)</td>\n",
       "      <td>560000</td>\n",
       "      <td>영등포구</td>\n",
       "      <td>대림중앙시장</td>\n",
       "      <td>19.0</td>\n",
       "      <td>001</td>\n",
       "      <td>전통시장</td>\n",
       "      <td>2022-06-16</td>\n",
       "      <td>1759395.0</td>\n",
       "      <td>2022-06</td>\n",
       "    </tr>\n",
       "    <tr>\n",
       "      <th>7</th>\n",
       "      <td>국내산</td>\n",
       "      <td>애호박</td>\n",
       "      <td>1500</td>\n",
       "      <td>312.0</td>\n",
       "      <td>1개(200g)</td>\n",
       "      <td>560000</td>\n",
       "      <td>영등포구</td>\n",
       "      <td>대림중앙시장</td>\n",
       "      <td>19.0</td>\n",
       "      <td>001</td>\n",
       "      <td>전통시장</td>\n",
       "      <td>2022-06-16</td>\n",
       "      <td>1759396.0</td>\n",
       "      <td>2022-06</td>\n",
       "    </tr>\n",
       "    <tr>\n",
       "      <th>8</th>\n",
       "      <td>한우 설도 1+</td>\n",
       "      <td>쇠고기(한우,불고기)</td>\n",
       "      <td>6280</td>\n",
       "      <td>58.0</td>\n",
       "      <td>100g</td>\n",
       "      <td>560000</td>\n",
       "      <td>영등포구</td>\n",
       "      <td>대림중앙시장</td>\n",
       "      <td>19.0</td>\n",
       "      <td>001</td>\n",
       "      <td>전통시장</td>\n",
       "      <td>2022-06-16</td>\n",
       "      <td>1759397.0</td>\n",
       "      <td>2022-06</td>\n",
       "    </tr>\n",
       "    <tr>\n",
       "      <th>9</th>\n",
       "      <td>국내산 삼겹살</td>\n",
       "      <td>돼지고기(생삼겹살)</td>\n",
       "      <td>2880</td>\n",
       "      <td>99.0</td>\n",
       "      <td>100g</td>\n",
       "      <td>560000</td>\n",
       "      <td>영등포구</td>\n",
       "      <td>대림중앙시장</td>\n",
       "      <td>19.0</td>\n",
       "      <td>001</td>\n",
       "      <td>전통시장</td>\n",
       "      <td>2022-06-16</td>\n",
       "      <td>1759398.0</td>\n",
       "      <td>2022-06</td>\n",
       "    </tr>\n",
       "  </tbody>\n",
       "</table>\n",
       "</div>"
      ],
      "text/plain": [
       "                 ADD_COL        A_NAME A_PRICE  A_SEQ      A_UNIT M_GU_CODE  \\\n",
       "0                   국내산   사과(부사, 300g)    1000  305.0    1개(300g)    560000   \n",
       "1                   국내산    배(신고, 600g)    2000  306.0    1개(600g)    560000   \n",
       "2                   국내산             배추    3500   26.0  1포기(2.5kg)    560000   \n",
       "3                   국내산         무(1kg)    1500  308.0     1개(1kg)    560000   \n",
       "4  국내산 /1망(1.8kg) 3,500원            양파    2917   24.0       1.5kg    560000   \n",
       "5                   국내산       상추(100g)     750  310.0        100g    560000   \n",
       "6                   국내산             오이     666   22.0    1개(100g)    560000   \n",
       "7                   국내산            애호박    1500  312.0    1개(200g)    560000   \n",
       "8               한우 설도 1+   쇠고기(한우,불고기)    6280   58.0        100g    560000   \n",
       "9               국내산 삼겹살     돼지고기(생삼겹살)    2880   99.0        100g    560000   \n",
       "\n",
       "  M_GU_NAME  M_NAME  M_SEQ M_TYPE_CODE M_TYPE_NAME      P_DATE      P_SEQ  \\\n",
       "0      영등포구  대림중앙시장   19.0         001        전통시장  2022-06-16  1759389.0   \n",
       "1      영등포구  대림중앙시장   19.0         001        전통시장  2022-06-16  1759390.0   \n",
       "2      영등포구  대림중앙시장   19.0         001        전통시장  2022-06-16  1759391.0   \n",
       "3      영등포구  대림중앙시장   19.0         001        전통시장  2022-06-16  1759392.0   \n",
       "4      영등포구  대림중앙시장   19.0         001        전통시장  2022-06-16  1759393.0   \n",
       "5      영등포구  대림중앙시장   19.0         001        전통시장  2022-06-16  1759394.0   \n",
       "6      영등포구  대림중앙시장   19.0         001        전통시장  2022-06-16  1759395.0   \n",
       "7      영등포구  대림중앙시장   19.0         001        전통시장  2022-06-16  1759396.0   \n",
       "8      영등포구  대림중앙시장   19.0         001        전통시장  2022-06-16  1759397.0   \n",
       "9      영등포구  대림중앙시장   19.0         001        전통시장  2022-06-16  1759398.0   \n",
       "\n",
       "  P_YEAR_MONTH  \n",
       "0      2022-06  \n",
       "1      2022-06  \n",
       "2      2022-06  \n",
       "3      2022-06  \n",
       "4      2022-06  \n",
       "5      2022-06  \n",
       "6      2022-06  \n",
       "7      2022-06  \n",
       "8      2022-06  \n",
       "9      2022-06  "
      ]
     },
     "execution_count": 85,
     "metadata": {},
     "output_type": "execute_result"
    }
   ],
   "source": [
    "df[:10]"
   ]
  },
  {
   "cell_type": "markdown",
   "id": "2305277b",
   "metadata": {},
   "source": [
    "# 피쳐 목록\n",
    "\n",
    "```\n",
    "공통\tlist_total_count\t총 데이터 건수 (정상조회 시 출력됨)\n",
    "공통\tRESULT.CODE\t요청결과 코드 (하단 메세지설명 참고)\n",
    "공통\tRESULT.MESSAGE\t요청결과 메시지 (하단 메세지설명 참고)\n",
    "\n",
    "1\tP_SEQ\t일련번호\n",
    "2\tM_SEQ\t시장/마트 번호\n",
    "3\tM_NAME\t시장/마트 이름\n",
    "5\tA_SEQ\t품목 번호\n",
    "6\tA_NAME\t품목 이름\n",
    "7\tA_UNIT\t실판매규격\n",
    "8\tA_PRICE\t가격(원)\n",
    "9\tP_YEAR_MONTH\t년도-월\n",
    "10\tADD_COL\t비고\n",
    "11\tP_DATE\t점검일자\n",
    "12\tM_TYPE_CODE\t시장유형 구분 코드\n",
    "13\tM_TYPE_NAME\t시장유형 구분 이름\n",
    "14\tM_GU_CODE\t자치구 코드\n",
    "15\tM_GU_NAME\t자치구 이름\n",
    "```"
   ]
  },
  {
   "cell_type": "markdown",
   "id": "f7b7edd2",
   "metadata": {},
   "source": [
    "## 총 데이터 건수\n",
    "\n",
    "- list_total_count\n",
    "- type : int"
   ]
  },
  {
   "cell_type": "code",
   "execution_count": 111,
   "id": "334a0aa0",
   "metadata": {},
   "outputs": [
    {
     "data": {
      "text/plain": [
       "379194"
      ]
     },
     "execution_count": 111,
     "metadata": {},
     "output_type": "execute_result"
    }
   ],
   "source": [
    "# 총 데이터 건수\n",
    "data['ListNecessariesPricesService']['list_total_count']"
   ]
  },
  {
   "cell_type": "code",
   "execution_count": 70,
   "id": "58e721bf",
   "metadata": {},
   "outputs": [],
   "source": [
    "# 모든 row 데이터 정보\n",
    "\n",
    "total_info = data['ListNecessariesPricesService']['row']"
   ]
  },
  {
   "cell_type": "code",
   "execution_count": 71,
   "id": "98e256ea",
   "metadata": {},
   "outputs": [
    {
     "data": {
      "text/plain": [
       "1000"
      ]
     },
     "execution_count": 71,
     "metadata": {},
     "output_type": "execute_result"
    }
   ],
   "source": [
    "# 데이터는 1000개씩 호출할 수 있다\n",
    "len(total_info)"
   ]
  },
  {
   "cell_type": "markdown",
   "id": "eb69389e",
   "metadata": {},
   "source": [
    "## 일련번호\n",
    "\n",
    "- P-SEQ\n",
    "- 일련번호 순서가 불규칙하다.\n",
    "- type: float"
   ]
  },
  {
   "cell_type": "code",
   "execution_count": 89,
   "id": "16954ef5",
   "metadata": {},
   "outputs": [
    {
     "name": "stdout",
     "output_type": "stream",
     "text": [
      "1번째 데이터의 일련번호 : 1759389\n",
      "2번째 데이터의 일련번호 : 1759390\n",
      "3번째 데이터의 일련번호 : 1759391\n",
      "4번째 데이터의 일련번호 : 1759392\n",
      "5번째 데이터의 일련번호 : 1759393\n",
      "6번째 데이터의 일련번호 : 1759394\n",
      "7번째 데이터의 일련번호 : 1759395\n",
      "8번째 데이터의 일련번호 : 1759396\n",
      "9번째 데이터의 일련번호 : 1759397\n",
      "10번째 데이터의 일련번호 : 1759398\n",
      "---------------------------------------------------------\n",
      "991번째 데이터의 일련번호 : 1758411\n",
      "992번째 데이터의 일련번호 : 1758738\n",
      "993번째 데이터의 일련번호 : 1758139\n",
      "994번째 데이터의 일련번호 : 1758178\n",
      "995번째 데이터의 일련번호 : 1758739\n",
      "996번째 데이터의 일련번호 : 1758110\n",
      "997번째 데이터의 일련번호 : 1758412\n",
      "998번째 데이터의 일련번호 : 1758740\n",
      "999번째 데이터의 일련번호 : 1758103\n",
      "1000번째 데이터의 일련번호 : 1758105\n"
     ]
    }
   ],
   "source": [
    "for i in range(10):\n",
    "    print(f\"{i+1}번째 데이터의 일련번호 : {int(total_info[i]['P_SEQ'])}\")\n",
    "        \n",
    "print(\"---------------------------------------------------------\")\n",
    "\n",
    "for i in range(len(total_info) - 10, len(total_info)):\n",
    "    print(f\"{i+1}번째 데이터의 일련번호 : {int(total_info[i]['P_SEQ'])}\")\n",
    "    \n",
    "print(type(total_info[i]['ADD_COL']))"
   ]
  },
  {
   "cell_type": "markdown",
   "id": "88c3df39",
   "metadata": {},
   "source": [
    "## 시장/마트 번호\n",
    "\n",
    "- M-SEQ\n",
    "- 시장/마트 번호를 분류하는 키\n",
    "- type: float"
   ]
  },
  {
   "cell_type": "code",
   "execution_count": 112,
   "id": "bbdf52fa",
   "metadata": {},
   "outputs": [
    {
     "name": "stdout",
     "output_type": "stream",
     "text": [
      "19.0\n",
      "19.0\n",
      "19.0\n",
      "19.0\n",
      "19.0\n",
      "19.0\n",
      "19.0\n",
      "19.0\n",
      "19.0\n",
      "19.0\n",
      "<class 'float'>\n"
     ]
    }
   ],
   "source": [
    "# 시장/마트 번호\n",
    "\n",
    "for i in range(10):\n",
    "    print(total_info[i]['M_SEQ'])\n",
    "    \n",
    "print(type(total_info[i]['M_SEQ']))"
   ]
  },
  {
   "cell_type": "markdown",
   "id": "7c659ddc",
   "metadata": {},
   "source": [
    "# 품목 번호\n",
    "\n",
    "- A-SEQ\n",
    "- 품목별로 고유 값\n",
    "- type : float"
   ]
  },
  {
   "cell_type": "code",
   "execution_count": 113,
   "id": "4b507127",
   "metadata": {},
   "outputs": [
    {
     "name": "stdout",
     "output_type": "stream",
     "text": [
      "품목번호: 305.0\n",
      "품목번호: 306.0\n",
      "품목번호: 26.0\n",
      "품목번호: 308.0\n",
      "품목번호: 24.0\n",
      "품목번호: 310.0\n",
      "품목번호: 22.0\n",
      "품목번호: 312.0\n",
      "품목번호: 58.0\n",
      "품목번호: 99.0\n",
      "<class 'float'>\n"
     ]
    }
   ],
   "source": [
    "for i in range(10):\n",
    "    print(f\"품목번호: {total_info[i]['A_SEQ']}\")\n",
    "    \n",
    "print(type(total_info[i]['A_SEQ']))"
   ]
  },
  {
   "cell_type": "markdown",
   "id": "60e3bd1c",
   "metadata": {},
   "source": [
    "## 품목 이름\n",
    "\n",
    "- A_NAME\n",
    "- type: str"
   ]
  },
  {
   "cell_type": "code",
   "execution_count": 114,
   "id": "9f712df2",
   "metadata": {},
   "outputs": [
    {
     "name": "stdout",
     "output_type": "stream",
     "text": [
      "품목이름: 사과(부사, 300g)\n",
      "품목이름: 배(신고, 600g)\n",
      "품목이름: 배추\n",
      "품목이름: 무(1kg)\n",
      "품목이름: 양파\n",
      "품목이름: 상추(100g)\n",
      "품목이름: 오이\n",
      "품목이름: 애호박\n",
      "품목이름: 쇠고기(한우,불고기)\n",
      "품목이름: 돼지고기(생삼겹살)\n",
      "<class 'str'>\n"
     ]
    }
   ],
   "source": [
    "for i in range(10):\n",
    "    print(f\"품목이름: {total_info[i]['A_NAME']}\")\n",
    "    \n",
    "print(type(total_info[i]['A_NAME']))"
   ]
  },
  {
   "cell_type": "markdown",
   "id": "4222ea1e",
   "metadata": {},
   "source": [
    "# 실판매규격\n",
    "\n",
    "- A_UNIT\n",
    "- type: str"
   ]
  },
  {
   "cell_type": "code",
   "execution_count": 115,
   "id": "7131e7ee",
   "metadata": {},
   "outputs": [
    {
     "name": "stdout",
     "output_type": "stream",
     "text": [
      "실판매규격: 1개(300g)\n",
      "실판매규격: 1개(600g)\n",
      "실판매규격: 1포기(2.5kg)\n",
      "실판매규격: 1개(1kg)\n",
      "실판매규격: 1.5kg\n",
      "실판매규격: 100g\n",
      "실판매규격: 1개(100g)\n",
      "실판매규격: 1개(200g)\n",
      "실판매규격: 100g\n",
      "실판매규격: 100g\n",
      "<class 'str'>\n"
     ]
    }
   ],
   "source": [
    "for i in range(10):\n",
    "    print(f\"실판매규격: {total_info[i]['A_UNIT']}\")\n",
    "    \n",
    "print(type(total_info[i]['A_UNIT']))"
   ]
  },
  {
   "cell_type": "markdown",
   "id": "8884773d",
   "metadata": {},
   "source": [
    "# 가격(원)\n",
    "\n",
    "- A_PRICE\n",
    "- type: str"
   ]
  },
  {
   "cell_type": "code",
   "execution_count": 116,
   "id": "48ff8792",
   "metadata": {},
   "outputs": [
    {
     "name": "stdout",
     "output_type": "stream",
     "text": [
      "가격(원): 1000\n",
      "가격(원): 2000\n",
      "가격(원): 3500\n",
      "가격(원): 1500\n",
      "가격(원): 2917\n",
      "가격(원): 750\n",
      "가격(원): 666\n",
      "가격(원): 1500\n",
      "가격(원): 6280\n",
      "가격(원): 2880\n",
      "<class 'str'>\n"
     ]
    }
   ],
   "source": [
    "for i in range(10):\n",
    "    print(f\"가격(원): {total_info[i]['A_PRICE']}\")\n",
    "    \n",
    "print(type(total_info[i]['A_PRICE']))"
   ]
  },
  {
   "cell_type": "markdown",
   "id": "9dbe1095",
   "metadata": {},
   "source": [
    "# 년도-월\n",
    "\n",
    "- P_YEAR_MONTH\n",
    "- type: str"
   ]
  },
  {
   "cell_type": "code",
   "execution_count": 117,
   "id": "3dc013a3",
   "metadata": {},
   "outputs": [
    {
     "name": "stdout",
     "output_type": "stream",
     "text": [
      "년도-월: 2022-06\n",
      "년도-월: 2022-06\n",
      "년도-월: 2022-06\n",
      "년도-월: 2022-06\n",
      "년도-월: 2022-06\n",
      "년도-월: 2022-06\n",
      "년도-월: 2022-06\n",
      "년도-월: 2022-06\n",
      "년도-월: 2022-06\n",
      "년도-월: 2022-06\n",
      "<class 'str'>\n"
     ]
    }
   ],
   "source": [
    "for i in range(10):\n",
    "    print(f\"년도-월: {total_info[i]['P_YEAR_MONTH']}\")\n",
    "    \n",
    "print(type(total_info[i]['P_YEAR_MONTH']))"
   ]
  },
  {
   "cell_type": "markdown",
   "id": "99209acd",
   "metadata": {},
   "source": [
    "# 비고\n",
    "\n",
    "- 무슨 용도로 사용되는지 아직 잘 모르겠음\n",
    "- ADD_COL\n",
    "- type: str"
   ]
  },
  {
   "cell_type": "code",
   "execution_count": 118,
   "id": "58acb744",
   "metadata": {},
   "outputs": [
    {
     "name": "stdout",
     "output_type": "stream",
     "text": [
      "비고: 국내산 \n",
      "비고: 국내산 \n",
      "비고: 국내산 \n",
      "비고: 국내산 \n",
      "비고: 국내산 /1망(1.8kg) 3,500원\n",
      "비고: 국내산 \n",
      "비고: 국내산 \n",
      "비고: 국내산 \n",
      "비고: 한우 설도 1+\n",
      "비고: 국내산 삼겹살 \n",
      "<class 'str'>\n"
     ]
    }
   ],
   "source": [
    "for i in range(10):\n",
    "    print(f\"비고: {total_info[i]['ADD_COL']}\")\n",
    "    \n",
    "print(type(total_info[i]['ADD_COL']))"
   ]
  },
  {
   "cell_type": "markdown",
   "id": "7685981d",
   "metadata": {},
   "source": [
    "# 점검일자\n",
    "\n",
    "- 물가조사 날짜\n",
    "- P_DATE\n",
    "- type : str"
   ]
  },
  {
   "cell_type": "code",
   "execution_count": 119,
   "id": "9aa56c28",
   "metadata": {},
   "outputs": [
    {
     "name": "stdout",
     "output_type": "stream",
     "text": [
      "점검일자: 2022-06-16\n",
      "점검일자: 2022-06-16\n",
      "점검일자: 2022-06-16\n",
      "점검일자: 2022-06-16\n",
      "점검일자: 2022-06-16\n",
      "점검일자: 2022-06-16\n",
      "점검일자: 2022-06-16\n",
      "점검일자: 2022-06-16\n",
      "점검일자: 2022-06-16\n",
      "점검일자: 2022-06-16\n",
      "<class 'str'>\n"
     ]
    }
   ],
   "source": [
    "for i in range(10):\n",
    "    print(f\"점검일자: {total_info[i]['P_DATE']}\")\n",
    "\n",
    "print(type(total_info[i]['P_DATE']))"
   ]
  },
  {
   "cell_type": "markdown",
   "id": "0bdcfbd3",
   "metadata": {},
   "source": [
    "# 시장유형 구분 코드"
   ]
  },
  {
   "cell_type": "code",
   "execution_count": 123,
   "id": "3640c89b",
   "metadata": {},
   "outputs": [
    {
     "name": "stdout",
     "output_type": "stream",
     "text": [
      "시장유형 구분 코드: 001\n",
      "시장유형 구분 코드: 001\n",
      "시장유형 구분 코드: 001\n",
      "시장유형 구분 코드: 001\n",
      "시장유형 구분 코드: 001\n",
      "시장유형 구분 코드: 001\n",
      "시장유형 구분 코드: 001\n",
      "시장유형 구분 코드: 001\n",
      "시장유형 구분 코드: 001\n",
      "시장유형 구분 코드: 001\n",
      "<class 'str'>\n"
     ]
    }
   ],
   "source": [
    "for i in range(10):\n",
    "    print(f\"시장유형 구분 코드: {total_info[i]['M_TYPE_CODE']}\")\n",
    "    \n",
    "print(type(total_info[i]['M_TYPE_CODE']))"
   ]
  },
  {
   "cell_type": "markdown",
   "id": "fcc24328",
   "metadata": {},
   "source": [
    "# 시장유형 구분 이름"
   ]
  },
  {
   "cell_type": "code",
   "execution_count": 124,
   "id": "1dd10a01",
   "metadata": {},
   "outputs": [
    {
     "name": "stdout",
     "output_type": "stream",
     "text": [
      "시장유형 구분 이름: 사과(부사, 300g)\n",
      "시장유형 구분 이름: 배(신고, 600g)\n",
      "시장유형 구분 이름: 배추\n",
      "시장유형 구분 이름: 무(1kg)\n",
      "시장유형 구분 이름: 양파\n",
      "시장유형 구분 이름: 상추(100g)\n",
      "시장유형 구분 이름: 오이\n",
      "시장유형 구분 이름: 애호박\n",
      "시장유형 구분 이름: 쇠고기(한우,불고기)\n",
      "시장유형 구분 이름: 돼지고기(생삼겹살)\n",
      "<class 'str'>\n"
     ]
    }
   ],
   "source": [
    "for i in range(10):\n",
    "    print(f\"시장유형 구분 이름: {total_info[i]['A_NAME']}\")\n",
    "    \n",
    "print(type(total_info[i]['A_NAME']))"
   ]
  },
  {
   "cell_type": "markdown",
   "id": "45febfd1",
   "metadata": {},
   "source": [
    "# 자치구 코드"
   ]
  },
  {
   "cell_type": "code",
   "execution_count": 125,
   "id": "09dcae4f",
   "metadata": {},
   "outputs": [
    {
     "name": "stdout",
     "output_type": "stream",
     "text": [
      "자치구 코드: 560000\n",
      "자치구 코드: 560000\n",
      "자치구 코드: 560000\n",
      "자치구 코드: 560000\n",
      "자치구 코드: 560000\n",
      "자치구 코드: 560000\n",
      "자치구 코드: 560000\n",
      "자치구 코드: 560000\n",
      "자치구 코드: 560000\n",
      "자치구 코드: 560000\n",
      "<class 'str'>\n"
     ]
    }
   ],
   "source": [
    "for i in range(10):\n",
    "    print(f\"자치구 코드: {total_info[i]['M_GU_CODE']}\")\n",
    "    \n",
    "print(type(total_info[i]['M_GU_CODE']))"
   ]
  },
  {
   "cell_type": "markdown",
   "id": "8e1b35a5",
   "metadata": {},
   "source": [
    "# 자치구 이름"
   ]
  },
  {
   "cell_type": "code",
   "execution_count": 129,
   "id": "d4a74f19",
   "metadata": {},
   "outputs": [
    {
     "name": "stdout",
     "output_type": "stream",
     "text": [
      "자치구 이름: 영등포구\n",
      "자치구 이름: 영등포구\n",
      "자치구 이름: 영등포구\n",
      "자치구 이름: 영등포구\n",
      "자치구 이름: 영등포구\n",
      "자치구 이름: 영등포구\n",
      "자치구 이름: 영등포구\n",
      "자치구 이름: 영등포구\n",
      "자치구 이름: 영등포구\n",
      "자치구 이름: 영등포구\n",
      "<class 'str'>\n"
     ]
    }
   ],
   "source": [
    "for i in range(10):\n",
    "    print(f\"자치구 이름: {total_info[i]['M_GU_NAME']}\")\n",
    "    \n",
    "print(type(total_info[i]['M_GU_NAME']))"
   ]
  },
  {
   "cell_type": "code",
   "execution_count": null,
   "id": "386271a2",
   "metadata": {},
   "outputs": [],
   "source": []
  }
 ],
 "metadata": {
  "kernelspec": {
   "display_name": "Python 3 (ipykernel)",
   "language": "python",
   "name": "python3"
  },
  "language_info": {
   "codemirror_mode": {
    "name": "ipython",
    "version": 3
   },
   "file_extension": ".py",
   "mimetype": "text/x-python",
   "name": "python",
   "nbconvert_exporter": "python",
   "pygments_lexer": "ipython3",
   "version": "3.9.1"
  }
 },
 "nbformat": 4,
 "nbformat_minor": 5
}
