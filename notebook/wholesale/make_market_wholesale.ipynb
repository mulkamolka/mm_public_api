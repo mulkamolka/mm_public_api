{
 "cells": [
  {
   "cell_type": "markdown",
   "id": "f90ac768",
   "metadata": {},
   "source": [
    "# 데이터 불러오기\n",
    "\n",
    "- 서울 경매 데이터만 추출"
   ]
  },
  {
   "cell_type": "code",
   "execution_count": 4,
   "id": "069803b8",
   "metadata": {},
   "outputs": [],
   "source": [
    "import pandas as pd"
   ]
  },
  {
   "cell_type": "code",
   "execution_count": 7,
   "id": "931678b8",
   "metadata": {},
   "outputs": [],
   "source": [
    "market_wholesale_dict = {\n",
    "    'm_code' : ['W1'],\n",
    "    'm_origin': ['서울']\n",
    "}"
   ]
  },
  {
   "cell_type": "code",
   "execution_count": 9,
   "id": "852cf426",
   "metadata": {},
   "outputs": [],
   "source": [
    "market_wholesale_df = pd.DataFrame(data=market_wholesale_dict)"
   ]
  },
  {
   "cell_type": "code",
   "execution_count": 10,
   "id": "2d6b60c1",
   "metadata": {},
   "outputs": [
    {
     "data": {
      "text/html": [
       "<div>\n",
       "<style scoped>\n",
       "    .dataframe tbody tr th:only-of-type {\n",
       "        vertical-align: middle;\n",
       "    }\n",
       "\n",
       "    .dataframe tbody tr th {\n",
       "        vertical-align: top;\n",
       "    }\n",
       "\n",
       "    .dataframe thead th {\n",
       "        text-align: right;\n",
       "    }\n",
       "</style>\n",
       "<table border=\"1\" class=\"dataframe\">\n",
       "  <thead>\n",
       "    <tr style=\"text-align: right;\">\n",
       "      <th></th>\n",
       "      <th>m_code</th>\n",
       "      <th>m_origin</th>\n",
       "    </tr>\n",
       "  </thead>\n",
       "  <tbody>\n",
       "    <tr>\n",
       "      <th>0</th>\n",
       "      <td>W1</td>\n",
       "      <td>서울</td>\n",
       "    </tr>\n",
       "  </tbody>\n",
       "</table>\n",
       "</div>"
      ],
      "text/plain": [
       "  m_code m_origin\n",
       "0     W1       서울"
      ]
     },
     "execution_count": 10,
     "metadata": {},
     "output_type": "execute_result"
    }
   ],
   "source": [
    "market_wholesale_df"
   ]
  },
  {
   "cell_type": "code",
   "execution_count": 11,
   "id": "0a6de5e5",
   "metadata": {},
   "outputs": [],
   "source": [
    "market_wholesale_df.to_csv('./result/market_wholesale.csv', index=False)"
   ]
  }
 ],
 "metadata": {
  "kernelspec": {
   "display_name": "Python 3 (ipykernel)",
   "language": "python",
   "name": "python3"
  },
  "language_info": {
   "codemirror_mode": {
    "name": "ipython",
    "version": 3
   },
   "file_extension": ".py",
   "mimetype": "text/x-python",
   "name": "python",
   "nbconvert_exporter": "python",
   "pygments_lexer": "ipython3",
   "version": "3.9.1"
  }
 },
 "nbformat": 4,
 "nbformat_minor": 5
}
